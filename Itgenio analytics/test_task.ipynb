{
 "cells": [
  {
   "cell_type": "markdown",
   "metadata": {},
   "source": [
    "# Тестовое задание: анализ данных"
   ]
  },
  {
   "cell_type": "markdown",
   "metadata": {},
   "source": [
    "## Задание №1"
   ]
  },
  {
   "cell_type": "markdown",
   "metadata": {},
   "source": [
    "### Фичи:\n",
    "- **user_id** - уникальный идентификатор пользователя\n",
    "- **time** - время события\n",
    "- **parameters** - в формате \"{'event_name': 'Open Page', 'event_desc': {'page_name': '/'}}\"\n",
    "\n",
    "### Условие:\n",
    "Напиши код, чтобы:\n",
    "* Посчитать уникальное кол-во пользователей\n",
    "* Посчитать количество событий в разрезе каждого event_name"
   ]
  },
  {
   "cell_type": "code",
   "execution_count": 422,
   "metadata": {},
   "outputs": [],
   "source": [
    "import pandas as pd\n",
    "import numpy as np\n",
    "from ast import literal_eval\n",
    "import seaborn as sb\n",
    "from matplotlib import pyplot as plt\n",
    "np.random.seed(50)"
   ]
  },
  {
   "cell_type": "code",
   "execution_count": 423,
   "metadata": {},
   "outputs": [
    {
     "data": {
      "text/html": [
       "<div>\n",
       "<style scoped>\n",
       "    .dataframe tbody tr th:only-of-type {\n",
       "        vertical-align: middle;\n",
       "    }\n",
       "\n",
       "    .dataframe tbody tr th {\n",
       "        vertical-align: top;\n",
       "    }\n",
       "\n",
       "    .dataframe thead th {\n",
       "        text-align: right;\n",
       "    }\n",
       "</style>\n",
       "<table border=\"1\" class=\"dataframe\">\n",
       "  <thead>\n",
       "    <tr style=\"text-align: right;\">\n",
       "      <th></th>\n",
       "      <th>user_id</th>\n",
       "      <th>time</th>\n",
       "      <th>parameters</th>\n",
       "    </tr>\n",
       "  </thead>\n",
       "  <tbody>\n",
       "    <tr>\n",
       "      <th>0</th>\n",
       "      <td>3421469416179006</td>\n",
       "      <td>2021-01-10 15:22:54</td>\n",
       "      <td>{'event_name': 'Open Page', 'event_desc': {'pa...</td>\n",
       "    </tr>\n",
       "    <tr>\n",
       "      <th>1</th>\n",
       "      <td>7131195221449381</td>\n",
       "      <td>2021-01-10 16:32:54</td>\n",
       "      <td>{'event_name': 'Open Page', 'event_desc': {'pa...</td>\n",
       "    </tr>\n",
       "    <tr>\n",
       "      <th>2</th>\n",
       "      <td>9229288830491223</td>\n",
       "      <td>2021-01-10 17:37:54</td>\n",
       "      <td>{'event_name': 'Click Button', 'event_desc': {...</td>\n",
       "    </tr>\n",
       "    <tr>\n",
       "      <th>3</th>\n",
       "      <td>1904724133637512</td>\n",
       "      <td>2021-01-10 15:32:54</td>\n",
       "      <td>{'event_name': 'Open Page', 'event_desc': {'pa...</td>\n",
       "    </tr>\n",
       "    <tr>\n",
       "      <th>4</th>\n",
       "      <td>2696358638799740</td>\n",
       "      <td>2021-01-10 16:12:54</td>\n",
       "      <td>{'event_name': 'Open Page', 'event_desc': {'pa...</td>\n",
       "    </tr>\n",
       "  </tbody>\n",
       "</table>\n",
       "</div>"
      ],
      "text/plain": [
       "            user_id                 time  \\\n",
       "0  3421469416179006  2021-01-10 15:22:54   \n",
       "1  7131195221449381  2021-01-10 16:32:54   \n",
       "2  9229288830491223  2021-01-10 17:37:54   \n",
       "3  1904724133637512  2021-01-10 15:32:54   \n",
       "4  2696358638799740  2021-01-10 16:12:54   \n",
       "\n",
       "                                          parameters  \n",
       "0  {'event_name': 'Open Page', 'event_desc': {'pa...  \n",
       "1  {'event_name': 'Open Page', 'event_desc': {'pa...  \n",
       "2  {'event_name': 'Click Button', 'event_desc': {...  \n",
       "3  {'event_name': 'Open Page', 'event_desc': {'pa...  \n",
       "4  {'event_name': 'Open Page', 'event_desc': {'pa...  "
      ]
     },
     "execution_count": 423,
     "metadata": {},
     "output_type": "execute_result"
    }
   ],
   "source": [
    "data = pd.read_csv('events.csv')\n",
    "data.head()"
   ]
  },
  {
   "cell_type": "markdown",
   "metadata": {},
   "source": [
    "### Количество уникальных пользователей:"
   ]
  },
  {
   "cell_type": "code",
   "execution_count": 424,
   "metadata": {},
   "outputs": [
    {
     "data": {
      "text/plain": [
       "368"
      ]
     },
     "execution_count": 424,
     "metadata": {},
     "output_type": "execute_result"
    }
   ],
   "source": [
    "users_amount = data.groupby('user_id').ngroups\n",
    "users_amount"
   ]
  },
  {
   "cell_type": "code",
   "execution_count": 425,
   "metadata": {},
   "outputs": [
    {
     "data": {
      "text/plain": [
       "(368, 368)"
      ]
     },
     "execution_count": 425,
     "metadata": {},
     "output_type": "execute_result"
    }
   ],
   "source": [
    "# 2 других способа:\n",
    "len(set(data['user_id'])), data['user_id'].nunique()"
   ]
  },
  {
   "cell_type": "code",
   "execution_count": 426,
   "metadata": {},
   "outputs": [],
   "source": [
    "# Это для того, чтобы rows в DataFrame превратить в словари (dict)\n",
    "data['parameters'] = data['parameters'].apply(lambda r: literal_eval(r))"
   ]
  },
  {
   "cell_type": "code",
   "execution_count": 427,
   "metadata": {},
   "outputs": [
    {
     "data": {
      "text/plain": [
       "dict"
      ]
     },
     "execution_count": 427,
     "metadata": {},
     "output_type": "execute_result"
    }
   ],
   "source": [
    "type(data['parameters'].values[0])"
   ]
  },
  {
   "cell_type": "markdown",
   "metadata": {},
   "source": [
    "Создадим таблицу данных на основе пользовательских событий:"
   ]
  },
  {
   "cell_type": "code",
   "execution_count": 428,
   "metadata": {},
   "outputs": [
    {
     "data": {
      "text/html": [
       "<div>\n",
       "<style scoped>\n",
       "    .dataframe tbody tr th:only-of-type {\n",
       "        vertical-align: middle;\n",
       "    }\n",
       "\n",
       "    .dataframe tbody tr th {\n",
       "        vertical-align: top;\n",
       "    }\n",
       "\n",
       "    .dataframe thead th {\n",
       "        text-align: right;\n",
       "    }\n",
       "</style>\n",
       "<table border=\"1\" class=\"dataframe\">\n",
       "  <thead>\n",
       "    <tr style=\"text-align: right;\">\n",
       "      <th></th>\n",
       "      <th>event_name</th>\n",
       "      <th>event_desc</th>\n",
       "    </tr>\n",
       "  </thead>\n",
       "  <tbody>\n",
       "    <tr>\n",
       "      <th>995</th>\n",
       "      <td>Open Page</td>\n",
       "      <td>{'page_name': '/'}</td>\n",
       "    </tr>\n",
       "    <tr>\n",
       "      <th>996</th>\n",
       "      <td>Click Button</td>\n",
       "      <td>{'button_name': 'SignUp'}</td>\n",
       "    </tr>\n",
       "    <tr>\n",
       "      <th>997</th>\n",
       "      <td>Open Page</td>\n",
       "      <td>{'page_name': '/'}</td>\n",
       "    </tr>\n",
       "    <tr>\n",
       "      <th>998</th>\n",
       "      <td>Open Page</td>\n",
       "      <td>{'page_name': '/'}</td>\n",
       "    </tr>\n",
       "    <tr>\n",
       "      <th>999</th>\n",
       "      <td>Open Page</td>\n",
       "      <td>{'page_name': '/'}</td>\n",
       "    </tr>\n",
       "  </tbody>\n",
       "</table>\n",
       "</div>"
      ],
      "text/plain": [
       "       event_name                 event_desc\n",
       "995     Open Page         {'page_name': '/'}\n",
       "996  Click Button  {'button_name': 'SignUp'}\n",
       "997     Open Page         {'page_name': '/'}\n",
       "998     Open Page         {'page_name': '/'}\n",
       "999     Open Page         {'page_name': '/'}"
      ]
     },
     "execution_count": 428,
     "metadata": {},
     "output_type": "execute_result"
    }
   ],
   "source": [
    "events = pd.DataFrame(list(data['parameters']), columns=['event_name', 'event_desc'])\n",
    "events.tail()"
   ]
  },
  {
   "cell_type": "markdown",
   "metadata": {},
   "source": [
    "### Количество событий в разрезе каждого event-а:"
   ]
  },
  {
   "cell_type": "code",
   "execution_count": 429,
   "metadata": {},
   "outputs": [
    {
     "data": {
      "text/html": [
       "<div>\n",
       "<style scoped>\n",
       "    .dataframe tbody tr th:only-of-type {\n",
       "        vertical-align: middle;\n",
       "    }\n",
       "\n",
       "    .dataframe tbody tr th {\n",
       "        vertical-align: top;\n",
       "    }\n",
       "\n",
       "    .dataframe thead th {\n",
       "        text-align: right;\n",
       "    }\n",
       "</style>\n",
       "<table border=\"1\" class=\"dataframe\">\n",
       "  <thead>\n",
       "    <tr style=\"text-align: right;\">\n",
       "      <th></th>\n",
       "      <th>event_desc</th>\n",
       "    </tr>\n",
       "    <tr>\n",
       "      <th>event_name</th>\n",
       "      <th></th>\n",
       "    </tr>\n",
       "  </thead>\n",
       "  <tbody>\n",
       "    <tr>\n",
       "      <th>Click Button</th>\n",
       "      <td>521</td>\n",
       "    </tr>\n",
       "    <tr>\n",
       "      <th>Open Page</th>\n",
       "      <td>479</td>\n",
       "    </tr>\n",
       "  </tbody>\n",
       "</table>\n",
       "</div>"
      ],
      "text/plain": [
       "              event_desc\n",
       "event_name              \n",
       "Click Button         521\n",
       "Open Page            479"
      ]
     },
     "execution_count": 429,
     "metadata": {},
     "output_type": "execute_result"
    }
   ],
   "source": [
    "event_counts = events.groupby('event_name').count()\n",
    "event_counts"
   ]
  },
  {
   "cell_type": "markdown",
   "metadata": {},
   "source": [
    "Чуть-чуть повизуализируем"
   ]
  },
  {
   "cell_type": "code",
   "execution_count": 430,
   "metadata": {},
   "outputs": [
    {
     "data": {
      "image/png": "[encoded data removed]",
      "text/plain": [
       "<Figure size 360x216 with 1 Axes>"
      ]
     },
     "metadata": {
      "needs_background": "light"
     },
     "output_type": "display_data"
    }
   ],
   "source": [
    "fig, ax = plt.subplots()\n",
    "ax.bar(list(event_counts.index), list(event_counts.values.flatten()), 0.5, color='green')\n",
    "fig.set_figwidth(5) \n",
    "fig.set_figheight(3)    \n",
    "plt.show()"
   ]
  },
  {
   "cell_type": "markdown",
   "metadata": {},
   "source": [
    "## Задание №2"
   ]
  },
  {
   "cell_type": "markdown",
   "metadata": {},
   "source": [
    "### Условие:\n",
    "Теперь представь, что файл из предыдущего задания размером, допустим, 10ГБ и он НЕ помещается в оперативную память.\n",
    "Опиши варианты как будешь работать с данными, не помещающимися в память"
   ]
  },
  {
   "cell_type": "markdown",
   "metadata": {},
   "source": [
    "### Решение:\n",
    "* Хранить данные в БД и SQL-запросами постепенно получать только необходимые данные небольшими пакетами."
   ]
  },
  {
   "cell_type": "markdown",
   "metadata": {},
   "source": [
    "* Обрабатывать данные по частям (chunks). В качестве альтернативы чтению всего CSV-файла в память, библиотека pandas позволяет читать данные по частям с помощью цикла и аргумента chunksize для функции read_csv. Функция в этом случае возвращает итератор по DataFrames, а не один DataFrame (когда без параметра chunksize)."
   ]
  },
  {
   "cell_type": "code",
   "execution_count": 431,
   "metadata": {},
   "outputs": [
    {
     "data": {
      "text/plain": [
       "368"
      ]
     },
     "execution_count": 431,
     "metadata": {},
     "output_type": "execute_result"
    }
   ],
   "source": [
    "unique_users = list()\n",
    "for chunk in pd.read_csv('events.csv', chunksize=200): # каждую итерацию берем по 200 строк данных\n",
    "    df = pd.DataFrame(chunk)\n",
    "    # обрабатываем этот df как хотим, ну и например:\n",
    "    unique_users.extend(list(df.groupby('user_id').groups))\n",
    "len(set(unique_users))"
   ]
  },
  {
   "cell_type": "markdown",
   "metadata": {},
   "source": [
    "* Фильтрация. Выполняется в рамках одного chunk. Формулируется условие, по которому мы отбираем только те данные либо фичи, которые нам нужны. \n",
    "\n",
    "* Удаление. Мы можем удалять ненужные данные, например, выбросы (\"ненормальные\" значения) в каждом chunk-е и добавлять полученный chunk в итоговый data frame. Тем самым уменьшим количество данных. \n",
    "\n",
    "* Можно сэкономить память, если явно указывать загружаемые типы данных (параметр dtype в read_csv). Например, вместо int64 - int8, вместо float64 - float16 и т.д. (если диапазон чисел позволяет)."
   ]
  },
  {
   "cell_type": "markdown",
   "metadata": {},
   "source": [
    "## Задание №3"
   ]
  },
  {
   "cell_type": "markdown",
   "metadata": {},
   "source": [
    "### Условие:\n",
    "Из каких распределений мог бы быть сгенерирован этот набор данных:\n",
    "[0, 0, 1, 0, 0, 0, 0, 0, 1, 1, 1, 1, 0, 1, 0, 1, 0, 1, 1, 1]"
   ]
  },
  {
   "cell_type": "code",
   "execution_count": 432,
   "metadata": {},
   "outputs": [],
   "source": [
    "array = np.array([0, 0, 1, 0, 0, 0, 0, 0, 1, 1, 1, 1, 0, 1, 0, 1, 0, 1, 1, 1])"
   ]
  },
  {
   "cell_type": "markdown",
   "metadata": {},
   "source": [
    "### Рассчитаем меры центральной тенденции и меры изменчивости:"
   ]
  },
  {
   "cell_type": "code",
   "execution_count": 433,
   "metadata": {},
   "outputs": [
    {
     "data": {
      "text/plain": [
       "(0.5, 0.5, 0.5, 0.25)"
      ]
     },
     "execution_count": 433,
     "metadata": {},
     "output_type": "execute_result"
    }
   ],
   "source": [
    "median = np.median(array)\n",
    "st_dev = np.std(array)\n",
    "disp = np.var(array)\n",
    "mean = np.mean(array)\n",
    "median, mean, st_dev, disp"
   ]
  },
  {
   "cell_type": "markdown",
   "metadata": {},
   "source": [
    "Что мы имеем: набор данных имеет одинаковые значения медианы, моды и среднего. Стандартное отклонение от среднего (от 0.5) можно было и не считать, зная среднее в нашем случае)) Оно равно 0.5 (т.е. 0.5 от 0.5 влево и вправо - это 0 и 1).\n",
    "\n",
    "Можно предположить, что данные сгенерированы либо нормальным, либо равномерным распределением (это допустимо, так как в наших данных всего два значения: 0 и 1). \n",
    "\n",
    "Теперь визуализируем распределение исходных данных array, а также сгенерируем array.size (т.е. 20) чисел:\n",
    "- По закону нормального распределения\n",
    "- По закону равномерного распределения"
   ]
  },
  {
   "cell_type": "code",
   "execution_count": 438,
   "metadata": {},
   "outputs": [
    {
     "data": {
      "image/png": "[encoded data removed]",
      "text/plain": [
       "<Figure size 1440x720 with 1 Axes>"
      ]
     },
     "metadata": {
      "needs_background": "light"
     },
     "output_type": "display_data"
    }
   ],
   "source": [
    "# Генерируем столько же значений по нормальному распределению:\n",
    "array2 = [1 if np.random.normal(mean, st_dev) >= 0.5 else 0 for i in range(array.size)]\n",
    "# Генерируем столько же значений по равномерному распределению:\n",
    "array3 = [1 if np.random.uniform(np.min(array), np.max(array)) >= 0.5 else 0 for i in range(array.size)]\n",
    "\n",
    "fig, ax = plt.subplots(figsize=(20, 10))\n",
    "line1 = sb.distplot(array, kde=True, color='red', hist_kws={'alpha':0.1}, label='Initial data')\n",
    "line2 = sb.distplot(array2, kde=True, color='green', hist_kws={'alpha':0.1}, label='Normal dist.')\n",
    "line3 = sb.distplot(array3, kde=True, color='blue', hist_kws={'alpha':0.1}, label='Uniform dist.')\n",
    "\n",
    "# Plot legend\n",
    "plt.legend(prop={'size': 16})\n",
    "plt.show()"
   ]
  },
  {
   "cell_type": "markdown",
   "metadata": {},
   "source": [
    "#### Для того, чтобы точно увидеть, что гипотеза подтвердилась, необходимо запустить ячейку выше минимум 3-5 раз. \n",
    "Если красной линии не видно, значит она совпала с одной из линий нормального или равномерного распределения.\n",
    "\n",
    "На графике очень хорошо видно, что равномерное и нормальное распределение действительно подобны распределению исходных данных. Таким образом, вывод: **набор данных [0, 0, 1, 0, 0, 0, 0, 0, 1, 1, 1, 1, 0, 1, 0, 1, 0, 1, 1, 1] может быть получен нормальным и равномерным распределением**."
   ]
  },
  {
   "cell_type": "markdown",
   "metadata": {},
   "source": [
    "## Задание №4"
   ]
  },
  {
   "cell_type": "markdown",
   "metadata": {},
   "source": [
    "### Условие:\n",
    "\n",
    "Вводные данные: \n",
    "* женщина Линда, 31 год.\n",
    "* Робкая, спокойная, не замужем.\n",
    "* В детстве посещала кружок фотографии.\n",
    "\n",
    "**Какое развитие событий наиболее вероятно:**\n",
    "* (Событие А) Линда - кассир в магазине\n",
    "* (Событие B) Линда - библиотекарь\n",
    "* (Событие C) Линда - кассир в магазине, увлекается фотографией природы"
   ]
  },
  {
   "cell_type": "markdown",
   "metadata": {},
   "source": [
    "### Рассуждалка:\n",
    "P(A), P(B) и P(C) зависят от большого количества факторов, которые могут изменить Линду как человека. Чем больше исходных данных или \"фичей\", к которым данные чувствительны, тем более точно можно предсказать исход. Однако, кое-какую информацию все-таки удается выудить.\n",
    "\n",
    "P(A) > P(C), так как посещение кружка фотографии в детстве не гарантирует того, что Линда будет фотографировать природу, тем более, когда будет кассиром. \n",
    "\n",
    "Предположим, вероятность того, что Линда будет фотографом природы P(C) = 0.5, и вероятность того, что Линда будет кассиром тоже P(C) = 0.5. 0.5 (по-обывательски 50%) - довольно много. Но если рассматривать эти события как совместные, то мы получим горздо меньшее число: P(A+C) = 0.5 * 0.5 = 0.25. Поэтому точно могу сказать, что Линда скорее будет кассиром или библиотекарем, чем кассиром + фотографом.\n",
    "\n",
    "Теперь включим интуицию и предскажем наконец-то для Линды профессию)) Линда у нас робкая и спокойная, еще и не замужем, наверняка она интроверт. Интроверты стараются избегать общения с людьми и предпочитают те места, где их меньше. Именно поэтому оцениваю, что P(B) > P(A) и Линде, вероятнее всего, больше подходит профессия библиотекаря.\n",
    "\n",
    "### Ответ: (Событие B) Линда - библиотекарь"
   ]
  }
 ],
 "metadata": {
  "kernelspec": {
   "display_name": "Python 3",
   "language": "python",
   "name": "python3"
  },
  "language_info": {
   "codemirror_mode": {
    "name": "ipython",
    "version": 3
   },
   "file_extension": ".py",
   "mimetype": "text/x-python",
   "name": "python",
   "nbconvert_exporter": "python",
   "pygments_lexer": "ipython3",
   "version": "3.6.12"
  }
 },
 "nbformat": 4,
 "nbformat_minor": 4
}
